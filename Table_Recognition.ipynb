{
 "cells": [
  {
   "cell_type": "code",
   "execution_count": 3,
   "metadata": {
    "id": "N35t_7B6-b6X"
   },
   "outputs": [],
   "source": [
    "import pandas as pd\n",
    "import numpy as np\n",
    "import os\n",
    "import cv2\n",
    "import matplotlib.pyplot as plt\n",
    "%matplotlib inline\n",
    "\n",
    "# Suppressing Warnings\n",
    "import warnings\n",
    "warnings.filterwarnings('ignore')\n",
    "\n",
    "from tensorflow.keras.preprocessing.image import img_to_array\n",
    "from tensorflow.keras.preprocessing.image import load_img"
   ]
  },
  {
   "cell_type": "markdown",
   "metadata": {
    "id": "_CBHyfO1-fQ3"
   },
   "source": [
    "## Data Sourcing"
   ]
  },
  {
   "cell_type": "code",
   "execution_count": 4,
   "metadata": {
    "id": "oe0P526W-kQt"
   },
   "outputs": [],
   "source": [
    "# from google.colab import drive\n",
    "# drive.mount('/content/drive',force_remount=True)"
   ]
  },
  {
   "cell_type": "code",
   "execution_count": 5,
   "metadata": {
    "id": "9G0LZ35G-b6c"
   },
   "outputs": [],
   "source": [
    "# Setting the random seed so that the results don't vary drastically\n",
    "np.random.seed(30)\n",
    "import random as rn\n",
    "rn.seed(30)\n",
    "from keras import backend as K\n",
    "import tensorflow as tf\n",
    "tf.random.set_seed(30)"
   ]
  },
  {
   "cell_type": "code",
   "execution_count": 6,
   "metadata": {
    "id": "7jGmux3q-b6d"
   },
   "outputs": [],
   "source": [
    "# Defining the images folder paths\n",
    "train_path = '/content/drive/MyDrive/TABLE DATA SET/train_images/'\n",
    "test_path = '/content/drive/MyDrive/TABLE DATA SET/test_images/'"
   ]
  },
  {
   "cell_type": "code",
   "execution_count": 7,
   "metadata": {
    "colab": {
     "base_uri": "https://localhost:8080/",
     "height": 202
    },
    "id": "ZCUgTVL6-b6e",
    "outputId": "75e37bda-bac7-4969-f36b-9cdcc27e513e"
   },
   "outputs": [
    {
     "data": {
      "text/html": [
       "<div>\n",
       "<style scoped>\n",
       "    .dataframe tbody tr th:only-of-type {\n",
       "        vertical-align: middle;\n",
       "    }\n",
       "\n",
       "    .dataframe tbody tr th {\n",
       "        vertical-align: top;\n",
       "    }\n",
       "\n",
       "    .dataframe thead th {\n",
       "        text-align: right;\n",
       "    }\n",
       "</style>\n",
       "<table border=\"1\" class=\"dataframe\">\n",
       "  <thead>\n",
       "    <tr style=\"text-align: right;\">\n",
       "      <th></th>\n",
       "      <th>image_id</th>\n",
       "      <th>xmin</th>\n",
       "      <th>ymin</th>\n",
       "      <th>xmax</th>\n",
       "      <th>ymax</th>\n",
       "      <th>label</th>\n",
       "    </tr>\n",
       "  </thead>\n",
       "  <tbody>\n",
       "    <tr>\n",
       "      <th>0</th>\n",
       "      <td>0101_003.png</td>\n",
       "      <td>770</td>\n",
       "      <td>946</td>\n",
       "      <td>2070</td>\n",
       "      <td>2973</td>\n",
       "      <td>table</td>\n",
       "    </tr>\n",
       "    <tr>\n",
       "      <th>1</th>\n",
       "      <td>0110_099.png</td>\n",
       "      <td>270</td>\n",
       "      <td>1653</td>\n",
       "      <td>2280</td>\n",
       "      <td>2580</td>\n",
       "      <td>table</td>\n",
       "    </tr>\n",
       "    <tr>\n",
       "      <th>2</th>\n",
       "      <td>0113_013.png</td>\n",
       "      <td>303</td>\n",
       "      <td>343</td>\n",
       "      <td>2273</td>\n",
       "      <td>2953</td>\n",
       "      <td>table</td>\n",
       "    </tr>\n",
       "    <tr>\n",
       "      <th>3</th>\n",
       "      <td>0140_007.png</td>\n",
       "      <td>664</td>\n",
       "      <td>1782</td>\n",
       "      <td>1814</td>\n",
       "      <td>2076</td>\n",
       "      <td>table</td>\n",
       "    </tr>\n",
       "    <tr>\n",
       "      <th>4</th>\n",
       "      <td>0146_281.png</td>\n",
       "      <td>704</td>\n",
       "      <td>432</td>\n",
       "      <td>1744</td>\n",
       "      <td>1552</td>\n",
       "      <td>table</td>\n",
       "    </tr>\n",
       "  </tbody>\n",
       "</table>\n",
       "</div>"
      ],
      "text/plain": [
       "       image_id  xmin  ymin  xmax  ymax  label\n",
       "0  0101_003.png   770   946  2070  2973  table\n",
       "1  0110_099.png   270  1653  2280  2580  table\n",
       "2  0113_013.png   303   343  2273  2953  table\n",
       "3  0140_007.png   664  1782  1814  2076  table\n",
       "4  0146_281.png   704   432  1744  1552  table"
      ]
     },
     "execution_count": 7,
     "metadata": {
      "tags": []
     },
     "output_type": "execute_result"
    }
   ],
   "source": [
    "# Reading the train data\n",
    "train = pd.read_csv(\"/content/drive/MyDrive/TABLE DATA SET/train.csv\")\n",
    "train.head()"
   ]
  },
  {
   "cell_type": "code",
   "execution_count": 8,
   "metadata": {
    "colab": {
     "base_uri": "https://localhost:8080/"
    },
    "id": "59LjZZBb-b6f",
    "outputId": "e853ac5a-1239-41c8-b4ba-4cdfdba36e17",
    "scrolled": true
   },
   "outputs": [
    {
     "name": "stdout",
     "output_type": "stream",
     "text": [
      "<class 'pandas.core.frame.DataFrame'>\n",
      "RangeIndex: 418 entries, 0 to 417\n",
      "Data columns (total 6 columns):\n",
      " #   Column    Non-Null Count  Dtype \n",
      "---  ------    --------------  ----- \n",
      " 0   image_id  418 non-null    object\n",
      " 1   xmin      418 non-null    int64 \n",
      " 2   ymin      418 non-null    int64 \n",
      " 3   xmax      418 non-null    int64 \n",
      " 4   ymax      418 non-null    int64 \n",
      " 5   label     418 non-null    object\n",
      "dtypes: int64(4), object(2)\n",
      "memory usage: 19.7+ KB\n"
     ]
    }
   ],
   "source": [
    "# Getting the info\n",
    "train.info()"
   ]
  },
  {
   "cell_type": "code",
   "execution_count": 9,
   "metadata": {
    "colab": {
     "base_uri": "https://localhost:8080/",
     "height": 294
    },
    "id": "O-K7ARRP-b6f",
    "outputId": "34462b25-7d62-4ae0-9083-96839bf7b5cc",
    "scrolled": false
   },
   "outputs": [
    {
     "data": {
      "text/html": [
       "<div>\n",
       "<style scoped>\n",
       "    .dataframe tbody tr th:only-of-type {\n",
       "        vertical-align: middle;\n",
       "    }\n",
       "\n",
       "    .dataframe tbody tr th {\n",
       "        vertical-align: top;\n",
       "    }\n",
       "\n",
       "    .dataframe thead th {\n",
       "        text-align: right;\n",
       "    }\n",
       "</style>\n",
       "<table border=\"1\" class=\"dataframe\">\n",
       "  <thead>\n",
       "    <tr style=\"text-align: right;\">\n",
       "      <th></th>\n",
       "      <th>xmin</th>\n",
       "      <th>ymin</th>\n",
       "      <th>xmax</th>\n",
       "      <th>ymax</th>\n",
       "    </tr>\n",
       "  </thead>\n",
       "  <tbody>\n",
       "    <tr>\n",
       "      <th>count</th>\n",
       "      <td>418.000000</td>\n",
       "      <td>418.000000</td>\n",
       "      <td>418.000000</td>\n",
       "      <td>418.000000</td>\n",
       "    </tr>\n",
       "    <tr>\n",
       "      <th>mean</th>\n",
       "      <td>433.311005</td>\n",
       "      <td>866.160287</td>\n",
       "      <td>2165.308612</td>\n",
       "      <td>2031.021531</td>\n",
       "    </tr>\n",
       "    <tr>\n",
       "      <th>std</th>\n",
       "      <td>355.882817</td>\n",
       "      <td>663.356486</td>\n",
       "      <td>481.848567</td>\n",
       "      <td>725.916668</td>\n",
       "    </tr>\n",
       "    <tr>\n",
       "      <th>min</th>\n",
       "      <td>34.000000</td>\n",
       "      <td>10.000000</td>\n",
       "      <td>844.000000</td>\n",
       "      <td>574.000000</td>\n",
       "    </tr>\n",
       "    <tr>\n",
       "      <th>25%</th>\n",
       "      <td>213.750000</td>\n",
       "      <td>403.000000</td>\n",
       "      <td>2030.000000</td>\n",
       "      <td>1451.000000</td>\n",
       "    </tr>\n",
       "    <tr>\n",
       "      <th>50%</th>\n",
       "      <td>311.000000</td>\n",
       "      <td>550.500000</td>\n",
       "      <td>2263.000000</td>\n",
       "      <td>2076.000000</td>\n",
       "    </tr>\n",
       "    <tr>\n",
       "      <th>75%</th>\n",
       "      <td>518.750000</td>\n",
       "      <td>1169.000000</td>\n",
       "      <td>2376.000000</td>\n",
       "      <td>2703.000000</td>\n",
       "    </tr>\n",
       "    <tr>\n",
       "      <th>max</th>\n",
       "      <td>1898.000000</td>\n",
       "      <td>3074.000000</td>\n",
       "      <td>3164.000000</td>\n",
       "      <td>3260.000000</td>\n",
       "    </tr>\n",
       "  </tbody>\n",
       "</table>\n",
       "</div>"
      ],
      "text/plain": [
       "              xmin         ymin         xmax         ymax\n",
       "count   418.000000   418.000000   418.000000   418.000000\n",
       "mean    433.311005   866.160287  2165.308612  2031.021531\n",
       "std     355.882817   663.356486   481.848567   725.916668\n",
       "min      34.000000    10.000000   844.000000   574.000000\n",
       "25%     213.750000   403.000000  2030.000000  1451.000000\n",
       "50%     311.000000   550.500000  2263.000000  2076.000000\n",
       "75%     518.750000  1169.000000  2376.000000  2703.000000\n",
       "max    1898.000000  3074.000000  3164.000000  3260.000000"
      ]
     },
     "execution_count": 9,
     "metadata": {
      "tags": []
     },
     "output_type": "execute_result"
    }
   ],
   "source": [
    "# Exploring the train data\n",
    "train.describe()"
   ]
  },
  {
   "cell_type": "code",
   "execution_count": 10,
   "metadata": {
    "colab": {
     "base_uri": "https://localhost:8080/",
     "height": 202
    },
    "id": "QEX2bACJ-b6g",
    "outputId": "3f7f2a70-c77a-4486-c980-796a48e9ef20",
    "scrolled": true
   },
   "outputs": [
    {
     "data": {
      "text/html": [
       "<div>\n",
       "<style scoped>\n",
       "    .dataframe tbody tr th:only-of-type {\n",
       "        vertical-align: middle;\n",
       "    }\n",
       "\n",
       "    .dataframe tbody tr th {\n",
       "        vertical-align: top;\n",
       "    }\n",
       "\n",
       "    .dataframe thead th {\n",
       "        text-align: right;\n",
       "    }\n",
       "</style>\n",
       "<table border=\"1\" class=\"dataframe\">\n",
       "  <thead>\n",
       "    <tr style=\"text-align: right;\">\n",
       "      <th></th>\n",
       "      <th>image_id</th>\n",
       "      <th>xmin</th>\n",
       "      <th>ymin</th>\n",
       "      <th>xmax</th>\n",
       "      <th>ymax</th>\n",
       "      <th>label</th>\n",
       "    </tr>\n",
       "  </thead>\n",
       "  <tbody>\n",
       "    <tr>\n",
       "      <th>0</th>\n",
       "      <td>9533_039.png</td>\n",
       "      <td>60</td>\n",
       "      <td>396</td>\n",
       "      <td>1113</td>\n",
       "      <td>2420</td>\n",
       "      <td>table</td>\n",
       "    </tr>\n",
       "    <tr>\n",
       "      <th>1</th>\n",
       "      <td>9533_039.png</td>\n",
       "      <td>1143</td>\n",
       "      <td>1126</td>\n",
       "      <td>2240</td>\n",
       "      <td>2230</td>\n",
       "      <td>table</td>\n",
       "    </tr>\n",
       "    <tr>\n",
       "      <th>2</th>\n",
       "      <td>9534_001.png</td>\n",
       "      <td>196</td>\n",
       "      <td>378</td>\n",
       "      <td>2146</td>\n",
       "      <td>956</td>\n",
       "      <td>table</td>\n",
       "    </tr>\n",
       "    <tr>\n",
       "      <th>3</th>\n",
       "      <td>9534_001.png</td>\n",
       "      <td>184</td>\n",
       "      <td>1028</td>\n",
       "      <td>2160</td>\n",
       "      <td>1636</td>\n",
       "      <td>table</td>\n",
       "    </tr>\n",
       "    <tr>\n",
       "      <th>4</th>\n",
       "      <td>9534_028.png</td>\n",
       "      <td>642</td>\n",
       "      <td>1388</td>\n",
       "      <td>1944</td>\n",
       "      <td>1981</td>\n",
       "      <td>table</td>\n",
       "    </tr>\n",
       "  </tbody>\n",
       "</table>\n",
       "</div>"
      ],
      "text/plain": [
       "       image_id  xmin  ymin  xmax  ymax  label\n",
       "0  9533_039.png    60   396  1113  2420  table\n",
       "1  9533_039.png  1143  1126  2240  2230  table\n",
       "2  9534_001.png   196   378  2146   956  table\n",
       "3  9534_001.png   184  1028  2160  1636  table\n",
       "4  9534_028.png   642  1388  1944  1981  table"
      ]
     },
     "execution_count": 10,
     "metadata": {
      "tags": []
     },
     "output_type": "execute_result"
    }
   ],
   "source": [
    "# Reading the test data\n",
    "test = pd.read_csv(\"/content/drive/MyDrive/TABLE DATA SET/val.csv\")\n",
    "test.head()"
   ]
  },
  {
   "cell_type": "markdown",
   "metadata": {},
   "source": [
    "## Data Validation"
   ]
  },
  {
   "cell_type": "markdown",
   "metadata": {},
   "source": [
    "We will be validating if the data is correct, to avoid getting incorrect output"
   ]
  },
  {
   "cell_type": "code",
   "execution_count": 11,
   "metadata": {
    "id": "Jzw08gPv-b6j",
    "scrolled": false
   },
   "outputs": [],
   "source": [
    "# Checking if all imaged IDs are present in the train images folder\n",
    "train_val = []\n",
    "imgs = os.listdir('/content/drive/MyDrive/TABLE DATA SET/train_images/')\n",
    "for i in train.image_id:\n",
    "    if i not in imgs:\n",
    "        train_val.append(i)"
   ]
  },
  {
   "cell_type": "code",
   "execution_count": 12,
   "metadata": {
    "colab": {
     "base_uri": "https://localhost:8080/"
    },
    "id": "WjlgMnAj-b6k",
    "outputId": "10ee6ff2-7cf5-4908-c797-194324292a0d"
   },
   "outputs": [
    {
     "data": {
      "text/plain": [
       "['9534_058.png',\n",
       " '9534_058.png',\n",
       " '9548_031.png',\n",
       " '9548_031.png',\n",
       " '9560_036.png']"
      ]
     },
     "execution_count": 12,
     "metadata": {
      "tags": []
     },
     "output_type": "execute_result"
    }
   ],
   "source": [
    "train_val"
   ]
  },
  {
   "cell_type": "markdown",
   "metadata": {},
   "source": [
    "Looks like the above image IDs are not present in train_images folder. Now let's also look vice-versa."
   ]
  },
  {
   "cell_type": "code",
   "execution_count": 13,
   "metadata": {
    "id": "DvrFfNVL-b6l"
   },
   "outputs": [],
   "source": [
    "# Checking if all images from train_images folder have image_ids defined\n",
    "train__folder_val = []\n",
    "imgs = os.listdir('/content/drive/MyDrive/TABLE DATA SET/train_images/')\n",
    "for i in imgs:\n",
    "    if i not in train.image_id.unique():\n",
    "        train__folder_val.append(i)"
   ]
  },
  {
   "cell_type": "code",
   "execution_count": 14,
   "metadata": {
    "colab": {
     "base_uri": "https://localhost:8080/"
    },
    "id": "28pEBzJc-b6m",
    "outputId": "5b08acf4-360b-4d4f-9c97-84aab2095fa8"
   },
   "outputs": [
    {
     "data": {
      "text/plain": [
       "[]"
      ]
     },
     "execution_count": 14,
     "metadata": {
      "tags": []
     },
     "output_type": "execute_result"
    }
   ],
   "source": [
    "train__folder_val"
   ]
  },
  {
   "cell_type": "markdown",
   "metadata": {},
   "source": [
    "Also, let's check the test data in the same way we did for train data"
   ]
  },
  {
   "cell_type": "code",
   "execution_count": 15,
   "metadata": {
    "id": "RC32H-13-b6m"
   },
   "outputs": [],
   "source": [
    "# Checking if all imaged IDs are present in the test images folder\n",
    "imgs = os.listdir('/content/drive/MyDrive/TABLE DATA SET/test_images/')\n",
    "test_val = []\n",
    "for i in test.image_id:\n",
    "    if i not in imgs:\n",
    "        test_val.append(i)"
   ]
  },
  {
   "cell_type": "code",
   "execution_count": 16,
   "metadata": {
    "colab": {
     "base_uri": "https://localhost:8080/"
    },
    "id": "XQ8t3eSl-b6m",
    "outputId": "96609ac1-c2c2-46d8-9309-8516df356e74"
   },
   "outputs": [
    {
     "data": {
      "text/plain": [
       "[]"
      ]
     },
     "execution_count": 16,
     "metadata": {
      "tags": []
     },
     "output_type": "execute_result"
    }
   ],
   "source": [
    "test_val"
   ]
  },
  {
   "cell_type": "code",
   "execution_count": 17,
   "metadata": {
    "id": "pzjAoYXe-b6n"
   },
   "outputs": [],
   "source": [
    "# Checking if all images from test_images folder have image_ids defined\n",
    "imgs = os.listdir('/content/drive/MyDrive/TABLE DATA SET/test_images/')\n",
    "test_folder_val = []\n",
    "for i in imgs:\n",
    "    if i not in test.image_id.unique():\n",
    "        test_folder_val.append(i)"
   ]
  },
  {
   "cell_type": "code",
   "execution_count": 18,
   "metadata": {
    "colab": {
     "base_uri": "https://localhost:8080/"
    },
    "id": "czL2s2Hy-b6n",
    "outputId": "0a486160-6401-4360-b3d4-38ca66e4e789",
    "scrolled": false
   },
   "outputs": [
    {
     "data": {
      "text/plain": [
       "['9548_031.png', '9534_058.png', '9560_036.png']"
      ]
     },
     "execution_count": 18,
     "metadata": {
      "tags": []
     },
     "output_type": "execute_result"
    }
   ],
   "source": [
    "test_folder_val"
   ]
  },
  {
   "cell_type": "markdown",
   "metadata": {},
   "source": [
    "Now it is clear that __`three`__ images are wrongly defined in train data while they are present in test set"
   ]
  },
  {
   "cell_type": "code",
   "execution_count": 19,
   "metadata": {
    "colab": {
     "base_uri": "https://localhost:8080/"
    },
    "id": "XCNOW8Cz-b6n",
    "outputId": "5a35501f-0ad9-4ff7-c976-2d3a3c2f95ec",
    "scrolled": false
   },
   "outputs": [
    {
     "data": {
      "text/plain": [
       "338"
      ]
     },
     "execution_count": 19,
     "metadata": {
      "tags": []
     },
     "output_type": "execute_result"
    }
   ],
   "source": [
    "train['image_id'].nunique()"
   ]
  },
  {
   "cell_type": "code",
   "execution_count": 20,
   "metadata": {
    "colab": {
     "base_uri": "https://localhost:8080/"
    },
    "id": "9BO3IN-r-b6o",
    "outputId": "f47636a4-9525-476e-ee58-189736bfdd83",
    "scrolled": true
   },
   "outputs": [
    {
     "data": {
      "text/plain": [
       "335"
      ]
     },
     "execution_count": 20,
     "metadata": {
      "tags": []
     },
     "output_type": "execute_result"
    }
   ],
   "source": [
    "len(os.listdir('/content/drive/MyDrive/TABLE DATA SET/train_images/'))"
   ]
  },
  {
   "cell_type": "code",
   "execution_count": 21,
   "metadata": {
    "id": "tXX5GtNC-b6o"
   },
   "outputs": [],
   "source": [
    "# Moving the wrongly defined IDs from the train data to the test data\n",
    "mis = train.loc[train['image_id'].isin(train_val)]\n",
    "train = train.loc[~train['image_id'].isin(train_val)]\n",
    "train.reset_index(inplace=True)\n",
    "test = test.append(mis)\n",
    "test.reset_index(inplace=True)\n",
    "test.drop('index',axis=1,inplace=True)"
   ]
  },
  {
   "cell_type": "code",
   "execution_count": 22,
   "metadata": {
    "id": "1_n6E5oB-b6p"
   },
   "outputs": [],
   "source": [
    "train.drop('index',axis=1,inplace=True)"
   ]
  },
  {
   "cell_type": "code",
   "execution_count": 23,
   "metadata": {
    "colab": {
     "base_uri": "https://localhost:8080/"
    },
    "id": "yCPsW8ir-b6p",
    "outputId": "b51c0e90-9a22-468b-faeb-2d1a632a5bed",
    "scrolled": true
   },
   "outputs": [
    {
     "data": {
      "text/plain": [
       "68"
      ]
     },
     "execution_count": 23,
     "metadata": {
      "tags": []
     },
     "output_type": "execute_result"
    }
   ],
   "source": [
    "test['image_id'].nunique()"
   ]
  },
  {
   "cell_type": "code",
   "execution_count": 24,
   "metadata": {
    "colab": {
     "base_uri": "https://localhost:8080/"
    },
    "id": "LOr8Qenj-b6p",
    "outputId": "4b331a1b-6113-4f3d-df97-cef0b80049c8",
    "scrolled": false
   },
   "outputs": [
    {
     "data": {
      "text/plain": [
       "68"
      ]
     },
     "execution_count": 24,
     "metadata": {
      "tags": []
     },
     "output_type": "execute_result"
    }
   ],
   "source": [
    "len(os.listdir('/content/drive/MyDrive/TABLE DATA SET/test_images/'))"
   ]
  },
  {
   "cell_type": "markdown",
   "metadata": {},
   "source": [
    "Now the data is validated from both train and test sets. Let's now understand the data to get more understanding on it."
   ]
  },
  {
   "cell_type": "markdown",
   "metadata": {},
   "source": [
    "## Data Understanding"
   ]
  },
  {
   "cell_type": "markdown",
   "metadata": {},
   "source": [
    "First we will be extracting the height and widths of each images"
   ]
  },
  {
   "cell_type": "code",
   "execution_count": 25,
   "metadata": {
    "id": "fmkxCcgc-b6g"
   },
   "outputs": [],
   "source": [
    "train['height'] = train['image_id'].apply(lambda x: img_to_array(load_img('/content/drive/MyDrive/TABLE DATA SET/train_images/'+str(x))).shape[0])"
   ]
  },
  {
   "cell_type": "code",
   "execution_count": 26,
   "metadata": {
    "id": "CYZTEZRn-b6h",
    "scrolled": true
   },
   "outputs": [],
   "source": [
    "train['width'] = train['image_id'].apply(lambda x: img_to_array(load_img('/content/drive/MyDrive/TABLE DATA SET/train_images/'+str(x))).shape[1])"
   ]
  },
  {
   "cell_type": "code",
   "execution_count": 27,
   "metadata": {
    "id": "Dh75L-Ao-b6h"
   },
   "outputs": [],
   "source": [
    "test['height'] = test['image_id'].apply(lambda x: img_to_array(load_img('/content/drive/MyDrive/TABLE DATA SET/test_images/'+str(x))).shape[0])"
   ]
  },
  {
   "cell_type": "code",
   "execution_count": 28,
   "metadata": {
    "id": "bNLHtkzp-b6i"
   },
   "outputs": [],
   "source": [
    "test['width'] = test['image_id'].apply(lambda x: img_to_array(load_img('/content/drive/MyDrive/TABLE DATA SET/test_images/'+str(x))).shape[1])"
   ]
  },
  {
   "cell_type": "code",
   "execution_count": 29,
   "metadata": {
    "colab": {
     "base_uri": "https://localhost:8080/",
     "height": 294
    },
    "id": "WYnoiTeQ-b6i",
    "outputId": "a037e1ad-8906-4208-b6a7-f3a036d7e9b0"
   },
   "outputs": [
    {
     "data": {
      "text/html": [
       "<div>\n",
       "<style scoped>\n",
       "    .dataframe tbody tr th:only-of-type {\n",
       "        vertical-align: middle;\n",
       "    }\n",
       "\n",
       "    .dataframe tbody tr th {\n",
       "        vertical-align: top;\n",
       "    }\n",
       "\n",
       "    .dataframe thead th {\n",
       "        text-align: right;\n",
       "    }\n",
       "</style>\n",
       "<table border=\"1\" class=\"dataframe\">\n",
       "  <thead>\n",
       "    <tr style=\"text-align: right;\">\n",
       "      <th></th>\n",
       "      <th>xmin</th>\n",
       "      <th>ymin</th>\n",
       "      <th>xmax</th>\n",
       "      <th>ymax</th>\n",
       "      <th>height</th>\n",
       "      <th>width</th>\n",
       "    </tr>\n",
       "  </thead>\n",
       "  <tbody>\n",
       "    <tr>\n",
       "      <th>count</th>\n",
       "      <td>413.000000</td>\n",
       "      <td>413.000000</td>\n",
       "      <td>413.000000</td>\n",
       "      <td>413.000000</td>\n",
       "      <td>413.000000</td>\n",
       "      <td>413.000000</td>\n",
       "    </tr>\n",
       "    <tr>\n",
       "      <th>mean</th>\n",
       "      <td>435.842615</td>\n",
       "      <td>863.421308</td>\n",
       "      <td>2164.668281</td>\n",
       "      <td>2031.203390</td>\n",
       "      <td>3203.535109</td>\n",
       "      <td>2649.588378</td>\n",
       "    </tr>\n",
       "    <tr>\n",
       "      <th>std</th>\n",
       "      <td>357.182301</td>\n",
       "      <td>659.939749</td>\n",
       "      <td>484.644273</td>\n",
       "      <td>723.856475</td>\n",
       "      <td>251.980152</td>\n",
       "      <td>254.138780</td>\n",
       "    </tr>\n",
       "    <tr>\n",
       "      <th>min</th>\n",
       "      <td>34.000000</td>\n",
       "      <td>10.000000</td>\n",
       "      <td>844.000000</td>\n",
       "      <td>574.000000</td>\n",
       "      <td>2544.000000</td>\n",
       "      <td>2544.000000</td>\n",
       "    </tr>\n",
       "    <tr>\n",
       "      <th>25%</th>\n",
       "      <td>216.000000</td>\n",
       "      <td>406.000000</td>\n",
       "      <td>2026.000000</td>\n",
       "      <td>1454.000000</td>\n",
       "      <td>3300.000000</td>\n",
       "      <td>2544.000000</td>\n",
       "    </tr>\n",
       "    <tr>\n",
       "      <th>50%</th>\n",
       "      <td>313.000000</td>\n",
       "      <td>550.000000</td>\n",
       "      <td>2263.000000</td>\n",
       "      <td>2076.000000</td>\n",
       "      <td>3300.000000</td>\n",
       "      <td>2552.000000</td>\n",
       "    </tr>\n",
       "    <tr>\n",
       "      <th>75%</th>\n",
       "      <td>520.000000</td>\n",
       "      <td>1160.000000</td>\n",
       "      <td>2376.000000</td>\n",
       "      <td>2703.000000</td>\n",
       "      <td>3300.000000</td>\n",
       "      <td>2560.000000</td>\n",
       "    </tr>\n",
       "    <tr>\n",
       "      <th>max</th>\n",
       "      <td>1898.000000</td>\n",
       "      <td>3074.000000</td>\n",
       "      <td>3164.000000</td>\n",
       "      <td>3260.000000</td>\n",
       "      <td>3312.000000</td>\n",
       "      <td>3312.000000</td>\n",
       "    </tr>\n",
       "  </tbody>\n",
       "</table>\n",
       "</div>"
      ],
      "text/plain": [
       "              xmin         ymin  ...       height        width\n",
       "count   413.000000   413.000000  ...   413.000000   413.000000\n",
       "mean    435.842615   863.421308  ...  3203.535109  2649.588378\n",
       "std     357.182301   659.939749  ...   251.980152   254.138780\n",
       "min      34.000000    10.000000  ...  2544.000000  2544.000000\n",
       "25%     216.000000   406.000000  ...  3300.000000  2544.000000\n",
       "50%     313.000000   550.000000  ...  3300.000000  2552.000000\n",
       "75%     520.000000  1160.000000  ...  3300.000000  2560.000000\n",
       "max    1898.000000  3074.000000  ...  3312.000000  3312.000000\n",
       "\n",
       "[8 rows x 6 columns]"
      ]
     },
     "execution_count": 29,
     "metadata": {
      "tags": []
     },
     "output_type": "execute_result"
    }
   ],
   "source": [
    "# Exploring the statistical measures of train data\n",
    "train.describe()"
   ]
  },
  {
   "cell_type": "markdown",
   "metadata": {},
   "source": [
    "Looking at the minimum and maximum values of each pixel co-ordinates and comparing with the height and width of the images overall, we can say that we don't have the outliers present in the table co-ordinates "
   ]
  },
  {
   "cell_type": "code",
   "execution_count": 30,
   "metadata": {
    "colab": {
     "base_uri": "https://localhost:8080/",
     "height": 294
    },
    "id": "gSuKq_x9-b6j",
    "outputId": "da2d43be-678a-402a-92d8-d16a7607a368",
    "scrolled": true
   },
   "outputs": [
    {
     "data": {
      "text/html": [
       "<div>\n",
       "<style scoped>\n",
       "    .dataframe tbody tr th:only-of-type {\n",
       "        vertical-align: middle;\n",
       "    }\n",
       "\n",
       "    .dataframe tbody tr th {\n",
       "        vertical-align: top;\n",
       "    }\n",
       "\n",
       "    .dataframe thead th {\n",
       "        text-align: right;\n",
       "    }\n",
       "</style>\n",
       "<table border=\"1\" class=\"dataframe\">\n",
       "  <thead>\n",
       "    <tr style=\"text-align: right;\">\n",
       "      <th></th>\n",
       "      <th>xmin</th>\n",
       "      <th>ymin</th>\n",
       "      <th>xmax</th>\n",
       "      <th>ymax</th>\n",
       "      <th>height</th>\n",
       "      <th>width</th>\n",
       "    </tr>\n",
       "  </thead>\n",
       "  <tbody>\n",
       "    <tr>\n",
       "      <th>count</th>\n",
       "      <td>105.000000</td>\n",
       "      <td>105.000000</td>\n",
       "      <td>105.000000</td>\n",
       "      <td>105.000000</td>\n",
       "      <td>105.000000</td>\n",
       "      <td>105.000000</td>\n",
       "    </tr>\n",
       "    <tr>\n",
       "      <th>mean</th>\n",
       "      <td>419.200000</td>\n",
       "      <td>1006.742857</td>\n",
       "      <td>2091.276190</td>\n",
       "      <td>2040.495238</td>\n",
       "      <td>3264.285714</td>\n",
       "      <td>2587.809524</td>\n",
       "    </tr>\n",
       "    <tr>\n",
       "      <th>std</th>\n",
       "      <td>413.807215</td>\n",
       "      <td>701.223711</td>\n",
       "      <td>476.636825</td>\n",
       "      <td>718.065365</td>\n",
       "      <td>160.485185</td>\n",
       "      <td>160.913145</td>\n",
       "    </tr>\n",
       "    <tr>\n",
       "      <th>min</th>\n",
       "      <td>10.000000</td>\n",
       "      <td>70.000000</td>\n",
       "      <td>1113.000000</td>\n",
       "      <td>500.000000</td>\n",
       "      <td>2550.000000</td>\n",
       "      <td>2552.000000</td>\n",
       "    </tr>\n",
       "    <tr>\n",
       "      <th>25%</th>\n",
       "      <td>156.000000</td>\n",
       "      <td>420.000000</td>\n",
       "      <td>1944.000000</td>\n",
       "      <td>1524.000000</td>\n",
       "      <td>3300.000000</td>\n",
       "      <td>2552.000000</td>\n",
       "    </tr>\n",
       "    <tr>\n",
       "      <th>50%</th>\n",
       "      <td>243.000000</td>\n",
       "      <td>712.000000</td>\n",
       "      <td>2254.000000</td>\n",
       "      <td>2070.000000</td>\n",
       "      <td>3300.000000</td>\n",
       "      <td>2552.000000</td>\n",
       "    </tr>\n",
       "    <tr>\n",
       "      <th>75%</th>\n",
       "      <td>532.000000</td>\n",
       "      <td>1476.000000</td>\n",
       "      <td>2353.000000</td>\n",
       "      <td>2678.000000</td>\n",
       "      <td>3300.000000</td>\n",
       "      <td>2552.000000</td>\n",
       "    </tr>\n",
       "    <tr>\n",
       "      <th>max</th>\n",
       "      <td>1396.000000</td>\n",
       "      <td>2586.000000</td>\n",
       "      <td>3063.000000</td>\n",
       "      <td>3276.000000</td>\n",
       "      <td>3300.000000</td>\n",
       "      <td>3304.000000</td>\n",
       "    </tr>\n",
       "  </tbody>\n",
       "</table>\n",
       "</div>"
      ],
      "text/plain": [
       "              xmin         ymin  ...       height        width\n",
       "count   105.000000   105.000000  ...   105.000000   105.000000\n",
       "mean    419.200000  1006.742857  ...  3264.285714  2587.809524\n",
       "std     413.807215   701.223711  ...   160.485185   160.913145\n",
       "min      10.000000    70.000000  ...  2550.000000  2552.000000\n",
       "25%     156.000000   420.000000  ...  3300.000000  2552.000000\n",
       "50%     243.000000   712.000000  ...  3300.000000  2552.000000\n",
       "75%     532.000000  1476.000000  ...  3300.000000  2552.000000\n",
       "max    1396.000000  2586.000000  ...  3300.000000  3304.000000\n",
       "\n",
       "[8 rows x 6 columns]"
      ]
     },
     "execution_count": 30,
     "metadata": {
      "tags": []
     },
     "output_type": "execute_result"
    }
   ],
   "source": [
    "# Exploring the statistical measures of test data\n",
    "test.describe()"
   ]
  },
  {
   "cell_type": "markdown",
   "metadata": {},
   "source": [
    "Similar comparison as we did for train data is done for test data and this looks perfect as well. "
   ]
  },
  {
   "cell_type": "markdown",
   "metadata": {},
   "source": [
    "## Data Preprocessing"
   ]
  },
  {
   "cell_type": "code",
   "execution_count": 31,
   "metadata": {
    "id": "CyTlZVFv-b6q"
   },
   "outputs": [],
   "source": [
    "# Defining the batch size\n",
    "batch_size = 15"
   ]
  },
  {
   "cell_type": "markdown",
   "metadata": {},
   "source": [
    "__Converting the labels from dataframe into numpy arrays__\n"
   ]
  },
  {
   "cell_type": "code",
   "execution_count": 32,
   "metadata": {
    "id": "-HBLi9e6-b6q",
    "scrolled": true
   },
   "outputs": [],
   "source": [
    "train1 = np.array(train.drop('label',axis=1))"
   ]
  },
  {
   "cell_type": "code",
   "execution_count": 33,
   "metadata": {
    "id": "ebaD2H6c-b6q"
   },
   "outputs": [],
   "source": [
    "test1 = np.array(test.drop('label',axis=1))"
   ]
  },
  {
   "cell_type": "markdown",
   "metadata": {},
   "source": [
    "Since the data labels are defined for same images multiple times for different locations in the images, to reduce the bias while feeding the data, we will be building the generator and get the shuffled data in batches. "
   ]
  },
  {
   "cell_type": "code",
   "execution_count": 34,
   "metadata": {
    "id": "30k4hpza-b6q"
   },
   "outputs": [],
   "source": [
    "def generator(source_path, df, batch_size):\n",
    "    \"\"\"This function is the creates a generator of input image data to feed data in batches \n",
    "    into keras model for training and validation\n",
    "    param-1: - folder path of images\n",
    "    param-2: - output labels\n",
    "    param-3: - batch size\"\"\"\n",
    "    \n",
    "    print( 'Source path = ', source_path, '; batch size =', batch_size)\n",
    "    \n",
    "    while True:\n",
    "        t = np.random.permutation(df) # Randomizing the data\n",
    "        num_batches = math.floor(len(t) / batch_size) # calculate the number of batches\n",
    "        \n",
    "        for batch in range(num_batches): # we iterate over the number of batches\n",
    "            batch_data = np.zeros((batch_size,330,250,3)) #  defining final size of the input images\n",
    "            batch_labels = np.zeros((batch_size,4)) # batch_labels is the one hot representation of the output\n",
    "            \n",
    "            for imgs in range(batch_size): # iterate over the batch_size\n",
    "                    \n",
    "               \n",
    "                image = load_img(source_path+'/'+ str(t[imgs+ (batch*batch_size)][0]), target_size=(330, 250))\n",
    "                image = img_to_array(image)\n",
    "                batch_data[imgs,:,:,0] = image[:,:,0] / 255.0 # normalise and feed in the image\n",
    "                batch_data[imgs,:,:,1] = image[:,:,1] / 255.0 # normalise and feed in the image\n",
    "                batch_data[imgs,:,:,2] = image[:,:,2] / 255.0 # normalise and feed in the image\n",
    "                \n",
    "                \n",
    "                h = t[imgs+ (batch*batch_size)][5] # Getting the height of image\n",
    "                w = t[imgs+ (batch*batch_size)][6] # Getting the width of image\n",
    "                \n",
    "                # Scaling the table co-ordinates relative to the spatial dimensions of the input image\n",
    "                t[imgs+ (batch*batch_size)][1] = float(t[imgs+ (batch*batch_size)][1]) / w \n",
    "                t[imgs+ (batch*batch_size)][2] = float(t[imgs+ (batch*batch_size)][2]) / h\n",
    "                t[imgs+ (batch*batch_size)][3] = float(t[imgs+ (batch*batch_size)][3]) / w\n",
    "                t[imgs+ (batch*batch_size)][4] = float(t[imgs+ (batch*batch_size)][4]) / h                \n",
    "\n",
    "                batch_labels[imgs,:] = t[imgs + (batch*batch_size)][1:5]\n",
    "            yield batch_data, batch_labels #yields the batch_data and the batch_labels\n",
    "        \n",
    "        # Now defining for the remaining data points which are left after full batches\n",
    "\n",
    "        batch_size_rem = len(df) % batch_size # Calculating the batch size of the remaining images\n",
    "        \n",
    "        if (batch_size_rem!=0):\n",
    "            batch_data = np.zeros((batch_size_rem,330,250,3)) \n",
    "            batch_labels = np.zeros((batch_size_rem,4)) \n",
    "            \n",
    "            for imgs in range(batch_size_rem):\n",
    "                image = load_img(source_path+'/'+ str(t[imgs+ (batch_size_rem)][0]), target_size=(330, 250))\n",
    "                image = img_to_array(image)\n",
    "                \n",
    "                batch_data[imgs,:,:,0] = image[:,:,0] / 255.0 #normalise and feed in the image\n",
    "                batch_data[imgs,:,:,1] = image[:,:,1] / 255.0 #normalise and feed in the image\n",
    "                batch_data[imgs,:,:,2] = image[:,:,2] / 255.0 #normalise and feed in the image\n",
    "                \n",
    "                \n",
    "                h = t[imgs+ (batch_size_rem)][5]\n",
    "                w = t[imgs+ (batch_size_rem)][6]\n",
    "                t[imgs+ (batch_size_rem)][1] = float(t[imgs+ (batch_size_rem)][1]) / w\n",
    "                t[imgs+ (batch_size_rem)][2] = float(t[imgs+ (batch_size_rem)][2]) / h\n",
    "                t[imgs+ (batch_size_rem)][3] = float(t[imgs+ (batch_size_rem)][3]) / w\n",
    "                t[imgs+ (batch_size_rem)][4] = float(t[imgs+ (batch_size_rem)][4]) / h                \n",
    "\n",
    "                batch_labels[imgs,:] = t[imgs + (batch_size_rem)][1:5]\n",
    "            yield batch_data, batch_labels \n",
    "        "
   ]
  },
  {
   "cell_type": "code",
   "execution_count": 37,
   "metadata": {
    "colab": {
     "base_uri": "https://localhost:8080/",
     "height": 1000
    },
    "id": "4HkTITJp-b60",
    "outputId": "193c69f8-34ac-4208-9ca1-332d70d2c6b3",
    "scrolled": true
   },
   "outputs": [
    {
     "data": {
      "text/plain": [
       "<matplotlib.lines.Line2D at 0x7f42fe645290>"
      ]
     },
     "execution_count": 37,
     "metadata": {
      "tags": []
     },
     "output_type": "execute_result"
    },
    {
     "data": {
      "image/png": "[encoded data removed]",
      "text/plain": [
       "<Figure size 1440x1440 with 1 Axes>"
      ]
     },
     "metadata": {
      "needs_background": "light",
      "tags": []
     },
     "output_type": "display_data"
    }
   ],
   "source": [
    "# Looking at the sample image\n",
    "x = plt.imread(\"/content/drive/MyDrive/TABLE DATA SET/train_images/0101_003.png\")\n",
    "plt.figure(figsize=(20,20))\n",
    "plt.imshow(cv2.cvtColor(x, cv2.COLOR_BGR2RGB))\n",
    "plt.axvline(train1[0,1], linestyle=\"-\")\n",
    "plt.axvline(train1[0,3], linestyle=\"-\")\n",
    "plt.axhline(train1[0,2], linestyle=\"-\")\n",
    "plt.axhline(train1[0,4], linestyle=\"-\")"
   ]
  },
  {
   "cell_type": "markdown",
   "metadata": {},
   "source": [
    "## Model Building"
   ]
  },
  {
   "cell_type": "code",
   "execution_count": 110,
   "metadata": {
    "colab": {
     "base_uri": "https://localhost:8080/"
    },
    "id": "pv7k_uR--b61",
    "outputId": "0242aa23-ab19-452c-d926-3eac17e6c518"
   },
   "outputs": [
    {
     "name": "stdout",
     "output_type": "stream",
     "text": [
      "WARNING:tensorflow:`input_shape` is undefined or non-square, or `rows` is not in [128, 160, 192, 224]. Weights for input shape (224, 224) will be loaded as the default.\n"
     ]
    }
   ],
   "source": [
    "# Importing required libraries for model building\n",
    "from keras.models import Sequential, Model\n",
    "from keras.layers import Dense, GRU, Flatten, BatchNormalization, Activation, Dropout, GlobalAveragePooling2D\n",
    "from keras.layers.convolutional import Conv2D, MaxPooling2D\n",
    "from keras.callbacks import ModelCheckpoint, ReduceLROnPlateau\n",
    "from keras import optimizers\n",
    "from keras.regularizers import l2\n",
    "\n",
    "from keras.applications import mobilenet     #Importing the package for imagenet model\n",
    "\n",
    "# Creating an imagenet model object\n",
    "mobilenet_transfer = mobilenet.MobileNet(weights = 'imagenet', include_top = False, input_shape=(330,250,3))\n",
    "\n",
    "# At the begining of training we need to freeze the weights of pretrained layers\n",
    "split_at = 50\n",
    "for layer in mobilenet_transfer.layers[:split_at]:\n",
    "    layer.trainable = False\n",
    "\n",
    "for layer in mobilenet_transfer.layers[split_at:]:\n",
    "    layer.trainable = True\n",
    "\n",
    "# Adding the main model object and model layers\n",
    "avg = GlobalAveragePooling2D()(mobilenet_transfer.output)\n",
    "output = Dense(4, activation=\"sigmoid\")(avg)\n",
    "model = Model(inputs=mobilenet_transfer.input, outputs=output)\n"
   ]
  },
  {
   "cell_type": "code",
   "execution_count": 112,
   "metadata": {
    "colab": {
     "base_uri": "https://localhost:8080/"
    },
    "id": "axN-EqF7-b62",
    "outputId": "951b50a2-59f0-47f1-c9a7-9a72a43339ea"
   },
   "outputs": [
    {
     "name": "stdout",
     "output_type": "stream",
     "text": [
      "Model: \"model_5\"\n",
      "_________________________________________________________________\n",
      "Layer (type)                 Output Shape              Param #   \n",
      "=================================================================\n",
      "input_8 (InputLayer)         [(None, 330, 250, 3)]     0         \n",
      "_________________________________________________________________\n",
      "conv1 (Conv2D)               (None, 165, 125, 32)      864       \n",
      "_________________________________________________________________\n",
      "conv1_bn (BatchNormalization (None, 165, 125, 32)      128       \n",
      "_________________________________________________________________\n",
      "conv1_relu (ReLU)            (None, 165, 125, 32)      0         \n",
      "_________________________________________________________________\n",
      "conv_dw_1 (DepthwiseConv2D)  (None, 165, 125, 32)      288       \n",
      "_________________________________________________________________\n",
      "conv_dw_1_bn (BatchNormaliza (None, 165, 125, 32)      128       \n",
      "_________________________________________________________________\n",
      "conv_dw_1_relu (ReLU)        (None, 165, 125, 32)      0         \n",
      "_________________________________________________________________\n",
      "conv_pw_1 (Conv2D)           (None, 165, 125, 64)      2048      \n",
      "_________________________________________________________________\n",
      "conv_pw_1_bn (BatchNormaliza (None, 165, 125, 64)      256       \n",
      "_________________________________________________________________\n",
      "conv_pw_1_relu (ReLU)        (None, 165, 125, 64)      0         \n",
      "_________________________________________________________________\n",
      "conv_pad_2 (ZeroPadding2D)   (None, 166, 126, 64)      0         \n",
      "_________________________________________________________________\n",
      "conv_dw_2 (DepthwiseConv2D)  (None, 82, 62, 64)        576       \n",
      "_________________________________________________________________\n",
      "conv_dw_2_bn (BatchNormaliza (None, 82, 62, 64)        256       \n",
      "_________________________________________________________________\n",
      "conv_dw_2_relu (ReLU)        (None, 82, 62, 64)        0         \n",
      "_________________________________________________________________\n",
      "conv_pw_2 (Conv2D)           (None, 82, 62, 128)       8192      \n",
      "_________________________________________________________________\n",
      "conv_pw_2_bn (BatchNormaliza (None, 82, 62, 128)       512       \n",
      "_________________________________________________________________\n",
      "conv_pw_2_relu (ReLU)        (None, 82, 62, 128)       0         \n",
      "_________________________________________________________________\n",
      "conv_dw_3 (DepthwiseConv2D)  (None, 82, 62, 128)       1152      \n",
      "_________________________________________________________________\n",
      "conv_dw_3_bn (BatchNormaliza (None, 82, 62, 128)       512       \n",
      "_________________________________________________________________\n",
      "conv_dw_3_relu (ReLU)        (None, 82, 62, 128)       0         \n",
      "_________________________________________________________________\n",
      "conv_pw_3 (Conv2D)           (None, 82, 62, 128)       16384     \n",
      "_________________________________________________________________\n",
      "conv_pw_3_bn (BatchNormaliza (None, 82, 62, 128)       512       \n",
      "_________________________________________________________________\n",
      "conv_pw_3_relu (ReLU)        (None, 82, 62, 128)       0         \n",
      "_________________________________________________________________\n",
      "conv_pad_4 (ZeroPadding2D)   (None, 83, 63, 128)       0         \n",
      "_________________________________________________________________\n",
      "conv_dw_4 (DepthwiseConv2D)  (None, 41, 31, 128)       1152      \n",
      "_________________________________________________________________\n",
      "conv_dw_4_bn (BatchNormaliza (None, 41, 31, 128)       512       \n",
      "_________________________________________________________________\n",
      "conv_dw_4_relu (ReLU)        (None, 41, 31, 128)       0         \n",
      "_________________________________________________________________\n",
      "conv_pw_4 (Conv2D)           (None, 41, 31, 256)       32768     \n",
      "_________________________________________________________________\n",
      "conv_pw_4_bn (BatchNormaliza (None, 41, 31, 256)       1024      \n",
      "_________________________________________________________________\n",
      "conv_pw_4_relu (ReLU)        (None, 41, 31, 256)       0         \n",
      "_________________________________________________________________\n",
      "conv_dw_5 (DepthwiseConv2D)  (None, 41, 31, 256)       2304      \n",
      "_________________________________________________________________\n",
      "conv_dw_5_bn (BatchNormaliza (None, 41, 31, 256)       1024      \n",
      "_________________________________________________________________\n",
      "conv_dw_5_relu (ReLU)        (None, 41, 31, 256)       0         \n",
      "_________________________________________________________________\n",
      "conv_pw_5 (Conv2D)           (None, 41, 31, 256)       65536     \n",
      "_________________________________________________________________\n",
      "conv_pw_5_bn (BatchNormaliza (None, 41, 31, 256)       1024      \n",
      "_________________________________________________________________\n",
      "conv_pw_5_relu (ReLU)        (None, 41, 31, 256)       0         \n",
      "_________________________________________________________________\n",
      "conv_pad_6 (ZeroPadding2D)   (None, 42, 32, 256)       0         \n",
      "_________________________________________________________________\n",
      "conv_dw_6 (DepthwiseConv2D)  (None, 20, 15, 256)       2304      \n",
      "_________________________________________________________________\n",
      "conv_dw_6_bn (BatchNormaliza (None, 20, 15, 256)       1024      \n",
      "_________________________________________________________________\n",
      "conv_dw_6_relu (ReLU)        (None, 20, 15, 256)       0         \n",
      "_________________________________________________________________\n",
      "conv_pw_6 (Conv2D)           (None, 20, 15, 512)       131072    \n",
      "_________________________________________________________________\n",
      "conv_pw_6_bn (BatchNormaliza (None, 20, 15, 512)       2048      \n",
      "_________________________________________________________________\n",
      "conv_pw_6_relu (ReLU)        (None, 20, 15, 512)       0         \n",
      "_________________________________________________________________\n",
      "conv_dw_7 (DepthwiseConv2D)  (None, 20, 15, 512)       4608      \n",
      "_________________________________________________________________\n",
      "conv_dw_7_bn (BatchNormaliza (None, 20, 15, 512)       2048      \n",
      "_________________________________________________________________\n",
      "conv_dw_7_relu (ReLU)        (None, 20, 15, 512)       0         \n",
      "_________________________________________________________________\n",
      "conv_pw_7 (Conv2D)           (None, 20, 15, 512)       262144    \n",
      "_________________________________________________________________\n",
      "conv_pw_7_bn (BatchNormaliza (None, 20, 15, 512)       2048      \n",
      "_________________________________________________________________\n",
      "conv_pw_7_relu (ReLU)        (None, 20, 15, 512)       0         \n",
      "_________________________________________________________________\n",
      "conv_dw_8 (DepthwiseConv2D)  (None, 20, 15, 512)       4608      \n",
      "_________________________________________________________________\n",
      "conv_dw_8_bn (BatchNormaliza (None, 20, 15, 512)       2048      \n",
      "_________________________________________________________________\n",
      "conv_dw_8_relu (ReLU)        (None, 20, 15, 512)       0         \n",
      "_________________________________________________________________\n",
      "conv_pw_8 (Conv2D)           (None, 20, 15, 512)       262144    \n",
      "_________________________________________________________________\n",
      "conv_pw_8_bn (BatchNormaliza (None, 20, 15, 512)       2048      \n",
      "_________________________________________________________________\n",
      "conv_pw_8_relu (ReLU)        (None, 20, 15, 512)       0         \n",
      "_________________________________________________________________\n",
      "conv_dw_9 (DepthwiseConv2D)  (None, 20, 15, 512)       4608      \n",
      "_________________________________________________________________\n",
      "conv_dw_9_bn (BatchNormaliza (None, 20, 15, 512)       2048      \n",
      "_________________________________________________________________\n",
      "conv_dw_9_relu (ReLU)        (None, 20, 15, 512)       0         \n",
      "_________________________________________________________________\n",
      "conv_pw_9 (Conv2D)           (None, 20, 15, 512)       262144    \n",
      "_________________________________________________________________\n",
      "conv_pw_9_bn (BatchNormaliza (None, 20, 15, 512)       2048      \n",
      "_________________________________________________________________\n",
      "conv_pw_9_relu (ReLU)        (None, 20, 15, 512)       0         \n",
      "_________________________________________________________________\n",
      "conv_dw_10 (DepthwiseConv2D) (None, 20, 15, 512)       4608      \n",
      "_________________________________________________________________\n",
      "conv_dw_10_bn (BatchNormaliz (None, 20, 15, 512)       2048      \n",
      "_________________________________________________________________\n",
      "conv_dw_10_relu (ReLU)       (None, 20, 15, 512)       0         \n",
      "_________________________________________________________________\n",
      "conv_pw_10 (Conv2D)          (None, 20, 15, 512)       262144    \n",
      "_________________________________________________________________\n",
      "conv_pw_10_bn (BatchNormaliz (None, 20, 15, 512)       2048      \n",
      "_________________________________________________________________\n",
      "conv_pw_10_relu (ReLU)       (None, 20, 15, 512)       0         \n",
      "_________________________________________________________________\n",
      "conv_dw_11 (DepthwiseConv2D) (None, 20, 15, 512)       4608      \n",
      "_________________________________________________________________\n",
      "conv_dw_11_bn (BatchNormaliz (None, 20, 15, 512)       2048      \n",
      "_________________________________________________________________\n",
      "conv_dw_11_relu (ReLU)       (None, 20, 15, 512)       0         \n",
      "_________________________________________________________________\n",
      "conv_pw_11 (Conv2D)          (None, 20, 15, 512)       262144    \n",
      "_________________________________________________________________\n",
      "conv_pw_11_bn (BatchNormaliz (None, 20, 15, 512)       2048      \n",
      "_________________________________________________________________\n",
      "conv_pw_11_relu (ReLU)       (None, 20, 15, 512)       0         \n",
      "_________________________________________________________________\n",
      "conv_pad_12 (ZeroPadding2D)  (None, 21, 16, 512)       0         \n",
      "_________________________________________________________________\n",
      "conv_dw_12 (DepthwiseConv2D) (None, 10, 7, 512)        4608      \n",
      "_________________________________________________________________\n",
      "conv_dw_12_bn (BatchNormaliz (None, 10, 7, 512)        2048      \n",
      "_________________________________________________________________\n",
      "conv_dw_12_relu (ReLU)       (None, 10, 7, 512)        0         \n",
      "_________________________________________________________________\n",
      "conv_pw_12 (Conv2D)          (None, 10, 7, 1024)       524288    \n",
      "_________________________________________________________________\n",
      "conv_pw_12_bn (BatchNormaliz (None, 10, 7, 1024)       4096      \n",
      "_________________________________________________________________\n",
      "conv_pw_12_relu (ReLU)       (None, 10, 7, 1024)       0         \n",
      "_________________________________________________________________\n",
      "conv_dw_13 (DepthwiseConv2D) (None, 10, 7, 1024)       9216      \n",
      "_________________________________________________________________\n",
      "conv_dw_13_bn (BatchNormaliz (None, 10, 7, 1024)       4096      \n",
      "_________________________________________________________________\n",
      "conv_dw_13_relu (ReLU)       (None, 10, 7, 1024)       0         \n",
      "_________________________________________________________________\n",
      "conv_pw_13 (Conv2D)          (None, 10, 7, 1024)       1048576   \n",
      "_________________________________________________________________\n",
      "conv_pw_13_bn (BatchNormaliz (None, 10, 7, 1024)       4096      \n",
      "_________________________________________________________________\n",
      "conv_pw_13_relu (ReLU)       (None, 10, 7, 1024)       0         \n",
      "_________________________________________________________________\n",
      "global_average_pooling2d_6 ( (None, 1024)              0         \n",
      "_________________________________________________________________\n",
      "dense_8 (Dense)              (None, 4)                 4100      \n",
      "=================================================================\n",
      "Total params: 3,232,964\n",
      "Trainable params: 2,668,548\n",
      "Non-trainable params: 564,416\n",
      "_________________________________________________________________\n",
      "None\n"
     ]
    }
   ],
   "source": [
    "from tensorflow import keras\n",
    "optimiser = keras.optimizers.Adam(lr=0.01)  #defining optimizer\n",
    "model.compile(optimizer=optimiser, loss='mse', metrics=['accuracy'])\n",
    "print (model.summary())"
   ]
  },
  {
   "cell_type": "code",
   "execution_count": 113,
   "metadata": {
    "id": "x7P7hq5j-b62"
   },
   "outputs": [],
   "source": [
    "# Calling the generator function for both train and test sets\n",
    "train_generator = generator(train_path, train1, batch_size)\n",
    "val_generator = generator(test_path, test1, batch_size)"
   ]
  },
  {
   "cell_type": "code",
   "execution_count": 114,
   "metadata": {
    "colab": {
     "base_uri": "https://localhost:8080/"
    },
    "id": "4k1eSa0nW8IC",
    "outputId": "87046a63-e0be-4087-e53d-1dc7971cd28e"
   },
   "outputs": [
    {
     "name": "stdout",
     "output_type": "stream",
     "text": [
      "# training sequences = 413\n",
      "# validation sequences = 105\n",
      "# epochs = 30\n"
     ]
    }
   ],
   "source": [
    "# Getting the details of modelling sequences\n",
    "import datetime\n",
    "import math\n",
    "curr_dt_time = datetime.datetime.now()\n",
    "num_train_sequences = len(train)\n",
    "print('# training sequences =', num_train_sequences)\n",
    "num_val_sequences = len(test)\n",
    "print('# validation sequences =', num_val_sequences)\n",
    "num_epochs = 30 # choosing the number of epochs\n",
    "print ('# epochs =', num_epochs)"
   ]
  },
  {
   "cell_type": "code",
   "execution_count": 115,
   "metadata": {
    "id": "5jhOhTpE-b62"
   },
   "outputs": [],
   "source": [
    "# Reducing learning rate when a metric has stopped improving\n",
    "LR = ReduceLROnPlateau(monitor='val_loss', factor=0.15, patience=8, min_lr=0.001)\n",
    "callbacks_list = [LR]"
   ]
  },
  {
   "cell_type": "markdown",
   "metadata": {},
   "source": [
    "The `steps_per_epoch` and `validation_steps` are used by `fit_generator` to decide the number of next() calls it need to make."
   ]
  },
  {
   "cell_type": "code",
   "execution_count": 116,
   "metadata": {
    "id": "8Q67cLCl-b63"
   },
   "outputs": [],
   "source": [
    "if (num_train_sequences%batch_size) == 0:\n",
    "    steps_per_epoch = int(num_train_sequences/batch_size)\n",
    "else:\n",
    "    steps_per_epoch = (num_train_sequences//batch_size) + 1\n",
    "\n",
    "if (num_val_sequences%batch_size) == 0:\n",
    "    validation_steps = int(num_val_sequences/batch_size)\n",
    "else:\n",
    "    validation_steps = (num_val_sequences//batch_size) + 1"
   ]
  },
  {
   "cell_type": "markdown",
   "metadata": {},
   "source": [
    "Let us now fit the model."
   ]
  },
  {
   "cell_type": "code",
   "execution_count": 117,
   "metadata": {
    "colab": {
     "base_uri": "https://localhost:8080/"
    },
    "id": "5IV4bp9y-b63",
    "outputId": "d85fbb1e-7a85-440f-b8ba-c2d6344264c1"
   },
   "outputs": [
    {
     "name": "stdout",
     "output_type": "stream",
     "text": [
      "Source path =  /content/drive/MyDrive/TABLE DATA SET/train_images/ ; batch size = 15\n",
      "Epoch 1/30\n",
      "28/28 [==============================] - ETA: 0s - loss: 0.1108 - accuracy: 0.6460Source path =  /content/drive/MyDrive/TABLE DATA SET/test_images/ ; batch size = 15\n",
      "28/28 [==============================] - 17s 471ms/step - loss: 0.1108 - accuracy: 0.6473 - val_loss: 0.1111 - val_accuracy: 0.7524\n",
      "Epoch 2/30\n",
      "28/28 [==============================] - 11s 402ms/step - loss: 0.1017 - accuracy: 0.7401 - val_loss: 0.1119 - val_accuracy: 0.7238\n",
      "Epoch 3/30\n",
      "28/28 [==============================] - 11s 400ms/step - loss: 0.0892 - accuracy: 0.7454 - val_loss: 0.1125 - val_accuracy: 0.7810\n",
      "Epoch 4/30\n",
      "28/28 [==============================] - 11s 400ms/step - loss: 0.0610 - accuracy: 0.7243 - val_loss: 0.1122 - val_accuracy: 0.7048\n",
      "Epoch 5/30\n",
      "28/28 [==============================] - 11s 400ms/step - loss: 0.0491 - accuracy: 0.7647 - val_loss: 0.1150 - val_accuracy: 0.7429\n",
      "Epoch 6/30\n",
      "28/28 [==============================] - 11s 400ms/step - loss: 0.0414 - accuracy: 0.7965 - val_loss: 0.1317 - val_accuracy: 0.7714\n",
      "Epoch 7/30\n",
      "28/28 [==============================] - 11s 396ms/step - loss: 0.0372 - accuracy: 0.8064 - val_loss: 0.0797 - val_accuracy: 0.7524\n",
      "Epoch 8/30\n",
      "28/28 [==============================] - 11s 395ms/step - loss: 0.0359 - accuracy: 0.7890 - val_loss: 0.1507 - val_accuracy: 0.7524\n",
      "Epoch 9/30\n",
      "28/28 [==============================] - 11s 393ms/step - loss: 0.0327 - accuracy: 0.7898 - val_loss: 0.1549 - val_accuracy: 0.7429\n",
      "Epoch 10/30\n",
      "28/28 [==============================] - 11s 391ms/step - loss: 0.0344 - accuracy: 0.7623 - val_loss: 0.1746 - val_accuracy: 0.7143\n",
      "Epoch 11/30\n",
      "28/28 [==============================] - 11s 396ms/step - loss: 0.0264 - accuracy: 0.7775 - val_loss: 0.1760 - val_accuracy: 0.8000\n",
      "Epoch 12/30\n",
      "28/28 [==============================] - 11s 396ms/step - loss: 0.0269 - accuracy: 0.7893 - val_loss: 0.1662 - val_accuracy: 0.7333\n",
      "Epoch 13/30\n",
      "28/28 [==============================] - 11s 387ms/step - loss: 0.0205 - accuracy: 0.8174 - val_loss: 0.1584 - val_accuracy: 0.7524\n",
      "Epoch 14/30\n",
      "28/28 [==============================] - 11s 396ms/step - loss: 0.0214 - accuracy: 0.7959 - val_loss: 0.0722 - val_accuracy: 0.7619\n",
      "Epoch 15/30\n",
      "28/28 [==============================] - 11s 394ms/step - loss: 0.0226 - accuracy: 0.7819 - val_loss: 0.0794 - val_accuracy: 0.6000\n",
      "Epoch 16/30\n",
      "28/28 [==============================] - 11s 397ms/step - loss: 0.0207 - accuracy: 0.8142 - val_loss: 0.0637 - val_accuracy: 0.7714\n",
      "Epoch 17/30\n",
      "28/28 [==============================] - 11s 395ms/step - loss: 0.0187 - accuracy: 0.8025 - val_loss: 0.0494 - val_accuracy: 0.7048\n",
      "Epoch 18/30\n",
      "28/28 [==============================] - 11s 394ms/step - loss: 0.0182 - accuracy: 0.7802 - val_loss: 0.0451 - val_accuracy: 0.7333\n",
      "Epoch 19/30\n",
      "28/28 [==============================] - 11s 391ms/step - loss: 0.0200 - accuracy: 0.7617 - val_loss: 0.0426 - val_accuracy: 0.7238\n",
      "Epoch 20/30\n",
      "28/28 [==============================] - 11s 393ms/step - loss: 0.0174 - accuracy: 0.8097 - val_loss: 0.0423 - val_accuracy: 0.7619\n",
      "Epoch 21/30\n",
      "28/28 [==============================] - 11s 395ms/step - loss: 0.0158 - accuracy: 0.8119 - val_loss: 0.0465 - val_accuracy: 0.7619\n",
      "Epoch 22/30\n",
      "28/28 [==============================] - 11s 393ms/step - loss: 0.0169 - accuracy: 0.8034 - val_loss: 0.0558 - val_accuracy: 0.7524\n",
      "Epoch 23/30\n",
      "28/28 [==============================] - 11s 399ms/step - loss: 0.0169 - accuracy: 0.8697 - val_loss: 0.0413 - val_accuracy: 0.7429\n",
      "Epoch 24/30\n",
      "28/28 [==============================] - 11s 398ms/step - loss: 0.0154 - accuracy: 0.8360 - val_loss: 0.0330 - val_accuracy: 0.7429\n",
      "Epoch 25/30\n",
      "28/28 [==============================] - 11s 392ms/step - loss: 0.0162 - accuracy: 0.8475 - val_loss: 0.0524 - val_accuracy: 0.7905\n",
      "Epoch 26/30\n",
      "28/28 [==============================] - 11s 392ms/step - loss: 0.0184 - accuracy: 0.8152 - val_loss: 0.0339 - val_accuracy: 0.7429\n",
      "Epoch 27/30\n",
      "28/28 [==============================] - 11s 395ms/step - loss: 0.0146 - accuracy: 0.8442 - val_loss: 0.0433 - val_accuracy: 0.8190\n",
      "Epoch 28/30\n",
      "28/28 [==============================] - 11s 392ms/step - loss: 0.0135 - accuracy: 0.8213 - val_loss: 0.0656 - val_accuracy: 0.7524\n",
      "Epoch 29/30\n",
      "28/28 [==============================] - 11s 395ms/step - loss: 0.0154 - accuracy: 0.8076 - val_loss: 0.0334 - val_accuracy: 0.7524\n",
      "Epoch 30/30\n",
      "28/28 [==============================] - 11s 396ms/step - loss: 0.0137 - accuracy: 0.8286 - val_loss: 0.0272 - val_accuracy: 0.8095\n"
     ]
    }
   ],
   "source": [
    "history = model.fit_generator(train_generator, steps_per_epoch=steps_per_epoch, epochs=num_epochs, verbose=1, \n",
    "                    callbacks=callbacks_list, validation_data=val_generator, \n",
    "                    validation_steps=validation_steps, workers=1, initial_epoch=0)"
   ]
  },
  {
   "cell_type": "code",
   "execution_count": 118,
   "metadata": {
    "colab": {
     "base_uri": "https://localhost:8080/",
     "height": 573
    },
    "id": "u1dGF4Xihwtv",
    "outputId": "28aa17b5-bca9-4225-83bf-1c97787a9f7e",
    "scrolled": false
   },
   "outputs": [
    {
     "data": {
      "image/png": "[encoded data removed]",
      "text/plain": [
       "<Figure size 432x288 with 1 Axes>"
      ]
     },
     "metadata": {
      "needs_background": "light",
      "tags": []
     },
     "output_type": "display_data"
    },
    {
     "data": {
      "image/png": "[encoded data removed]",
      "text/plain": [
       "<Figure size 432x288 with 1 Axes>"
      ]
     },
     "metadata": {
      "needs_background": "light",
      "tags": []
     },
     "output_type": "display_data"
    }
   ],
   "source": [
    "# summarize history for accuracy\n",
    "plt.subplot(121)\n",
    "plt.plot(history.history['accuracy'])\n",
    "plt.plot(history.history['val_accuracy'])\n",
    "plt.title('model accuracy')\n",
    "plt.ylabel('accuracy')\n",
    "plt.xlabel('epoch')\n",
    "plt.legend(['train', 'test'], loc='upper left')\n",
    "plt.show()\n",
    "\n",
    "\n",
    "# summarize history for loss\n",
    "plt.subplot(122)\n",
    "plt.plot(history.history['loss'])\n",
    "plt.plot(history.history['val_loss'])\n",
    "plt.title('model loss')\n",
    "plt.ylabel('loss')\n",
    "plt.xlabel('epoch')\n",
    "plt.legend(['train', 'test'], loc='upper left')\n",
    "plt.show()"
   ]
  }
 ],
 "metadata": {
  "accelerator": "GPU",
  "colab": {
   "collapsed_sections": [],
   "name": "Table Recognition.ipynb",
   "provenance": []
  },
  "kernelspec": {
   "display_name": "Python 3",
   "language": "python",
   "name": "python3"
  },
  "language_info": {
   "codemirror_mode": {
    "name": "ipython",
    "version": 3
   },
   "file_extension": ".py",
   "mimetype": "text/x-python",
   "name": "python",
   "nbconvert_exporter": "python",
   "pygments_lexer": "ipython3",
   "version": "3.7.3"
  }
 },
 "nbformat": 4,
 "nbformat_minor": 1
}
